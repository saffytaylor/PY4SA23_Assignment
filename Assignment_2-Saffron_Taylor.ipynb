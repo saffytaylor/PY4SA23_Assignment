{
 "cells": [
  {
   "attachments": {},
   "cell_type": "markdown",
   "metadata": {},
   "source": [
    "# Assignment No.2 - Saffron Taylor\n",
    "## Student Number: 200022090\n",
    "### GitHub URL: https://github.com/saffytaylor/PY4SA23_Assignment.git\n"
   ]
  },
  {
   "attachments": {},
   "cell_type": "markdown",
   "metadata": {},
   "source": [
    "### All required imports"
   ]
  },
  {
   "cell_type": "code",
   "execution_count": null,
   "metadata": {},
   "outputs": [],
   "source": [
    "from math import *\n",
    "from collections import namedtuple\n",
    "import numpy as np\n",
    "import pandas as pd\n",
    "import seaborn as sns\n",
    "import matplotlib.pyplot as plt\n",
    "import warnings\n",
    "import geopandas as gpd\n",
    "import mapclassify\n",
    "import rasterio as rio\n",
    "from rasterio import plot\n",
    "import earthpy as et\n",
    "import earthpy.spatial as es\n",
    "import earthpy.plot as ep"
   ]
  },
  {
   "attachments": {},
   "cell_type": "markdown",
   "metadata": {},
   "source": [
    "### Python Basics assignment tasks"
   ]
  },
  {
   "attachments": {},
   "cell_type": "markdown",
   "metadata": {},
   "source": [
    "Task 1: if and else statement with numerical data"
   ]
  },
  {
   "cell_type": "code",
   "execution_count": null,
   "metadata": {},
   "outputs": [],
   "source": [
    "num = 16\n",
    "\n",
    "if num%3 == 0:\n",
    "    print(num,\"is divisible by three\")\n",
    "else:\n",
    "    print(num,\"is not divisible by three\")"
   ]
  },
  {
   "attachments": {},
   "cell_type": "markdown",
   "metadata": {},
   "source": [
    "Task 2: if and else statement with string data"
   ]
  },
  {
   "cell_type": "code",
   "execution_count": null,
   "metadata": {},
   "outputs": [],
   "source": [
    "fruits = [\"apple\",\"orange\",\"pear\",\"kiwi\",\"strawberry\"]\n",
    "fruitInput = \"lemon\"\n",
    "\n",
    "if fruitInput in fruits:\n",
    "    print(fruitInput,\"is acceptable\")\n",
    "else:\n",
    "    print(fruitInput,\"is not acceptable\")"
   ]
  },
  {
   "attachments": {},
   "cell_type": "markdown",
   "metadata": {},
   "source": [
    "Task 3: Creating a function to calculate distance using the haversine formula"
   ]
  },
  {
   "cell_type": "code",
   "execution_count": null,
   "metadata": {},
   "outputs": [],
   "source": [
    "LatLng = namedtuple('LatLng', 'lat, lng')\n",
    "pointA = LatLng(40.6892, 74.044)\n",
    "pointB = LatLng(51.4552, 0.2968)\n",
    "earth_radius = 6371 #kilometres\n",
    "\n",
    "def haversine(pointA, pointB):\n",
    "    latitude = math.radians(pointB.lat-pointA.lat)\n",
    "    longitude = math.radians(pointB.lng-pointA.lng)\n",
    "    a = math.sin(latitude/2) * math.sin(latitude/2) + math.cos(math.radians(pointA.lat)) \\\n",
    "        * math.cos(math.radians(pointB.lat)) * math.sin(longitude/2) * math.sin(longitude/2)\n",
    "    c = 2 * math.atan2(math.sqrt(a), math.sqrt(1-a))\n",
    "    d = earth_radius * c\n",
    "\n",
    "    return d\n",
    "\n",
    "distance = haversine(pointA, pointB)\n",
    "print(round(distance,2),\"kilometres\")"
   ]
  },
  {
   "attachments": {},
   "cell_type": "markdown",
   "metadata": {},
   "source": [
    "### Pandas and NumPy tasks"
   ]
  },
  {
   "attachments": {},
   "cell_type": "markdown",
   "metadata": {},
   "source": [
    "Q1: How many trees are of the Quercus or Acer Genus"
   ]
  },
  {
   "cell_type": "code",
   "execution_count": null,
   "metadata": {},
   "outputs": [],
   "source": [
    "genus_df = pd.read_csv(\"/Users/saffytaylor/Documents/Assignment 2 Data/portland_park_trees.csv\", index_col=30)\n",
    "gen_df = genus_df.query(\"Genus == 'Quercus' | Genus == 'Acer'\")\n",
    "quercus_df = genus_df.query(\"Genus == 'Quercus'\")\n",
    "acer_df = genus_df.query(\"Genus == 'Acer'\")\n",
    "print(\"There are\", len(quercus_df),\"trees in the Quercus Genus, and\", len(acer_df),\"trees in the Acer Genus.\")\n",
    "print(\"In total there are\",len(gen_df),\"in both Genera.\")"
   ]
  },
  {
   "cell_type": "markdown",
   "metadata": {},
   "source": [
    "Q2: How many trees are of the Quercus or Acer genus and have a DBH larger than 50 inches?"
   ]
  },
  {
   "cell_type": "code",
   "execution_count": null,
   "metadata": {},
   "outputs": [],
   "source": [
    "gen_df.query(\"DBH > 50\")"
   ]
  },
  {
   "attachments": {},
   "cell_type": "markdown",
   "metadata": {},
   "source": [
    "Q4: How many different species of trees are recorded in the Acer genus?"
   ]
  },
  {
   "cell_type": "code",
   "execution_count": null,
   "metadata": {},
   "outputs": [],
   "source": [
    "acer_df[\"Species\"].nunique()"
   ]
  },
  {
   "attachments": {},
   "cell_type": "markdown",
   "metadata": {},
   "source": [
    "Q5: The world_cities.csv is a file that contains cities, countries, population, coordinates (geographic) and a Boolean attribute that defines if the city is the capital city or not. Read this file as a Pandas dataframe and create the required scripts to:\n",
    "* Calculate a new column named \"pop_M\" (population in millions), by transforming the \"pop\" (population) column.\n",
    "\n",
    "* Print the result.\n",
    "* Make sure you write the scripts in different code cells where you describe the process."
   ]
  },
  {
   "cell_type": "code",
   "execution_count": null,
   "metadata": {},
   "outputs": [],
   "source": [
    "cities_df = pd.read_csv(\"/Users/saffytaylor/Documents/Assignment 2 Data/world_cities.csv\")\n",
    "# reading the world_cities.csv file into python\n",
    "cities_df[\"pop_M\"] = (cities_df[\"pop\"]/1000000)\n",
    "# creating a new column called \"pop_M\" and assigning this column the value of \"pop\" divided by 1million, to give us the population in millions"
   ]
  },
  {
   "attachments": {},
   "cell_type": "markdown",
   "metadata": {},
   "source": [
    "* Remove the original \"pop\" column."
   ]
  },
  {
   "cell_type": "code",
   "execution_count": null,
   "metadata": {},
   "outputs": [],
   "source": [
    "cities_update = cities_df.drop([\"pop\"], axis=1)\n",
    "# using the drop command to remove the pop column"
   ]
  },
  {
   "attachments": {},
   "cell_type": "markdown",
   "metadata": {},
   "source": [
    "* Choose/subset a city that starts with the same letter as your first name (for example,\n",
    "\"Mexico City\" if your first name is Michael)."
   ]
  },
  {
   "cell_type": "code",
   "execution_count": null,
   "metadata": {},
   "outputs": [],
   "source": [
    "s_cities = cities_update[cities_update.city.str.startswith(\"S\")]\n",
    "# subsets the data to only include cities that start with the letter s\n",
    "s_cities.head(1)\n",
    "# then prints the first row of this subset to give us 1 city beginning with the letter S"
   ]
  },
  {
   "attachments": {},
   "cell_type": "markdown",
   "metadata": {},
   "source": [
    "* Subset the five biggest (i.e., largest population sizes) cities from the country where your selected city is."
   ]
  },
  {
   "cell_type": "code",
   "execution_count": null,
   "metadata": {},
   "outputs": [],
   "source": [
    "(cities_update.query(\"country == 'Equatorial Guinea'\")\n",
    " .sort_values(by=\"pop_M\", ascending=False)\n",
    " .head(5))"
   ]
  },
  {
   "attachments": {},
   "cell_type": "markdown",
   "metadata": {},
   "source": [
    "### Python Data Visualisation "
   ]
  },
  {
   "attachments": {},
   "cell_type": "markdown",
   "metadata": {},
   "source": [
    "Using the same dataset portland_park_trees.csv, create using seaborn, pandas or matplotlib libraries the following charts:\n",
    "\n",
    "* **Graph 1**: Create a scatterplot for just trees in the Ulmus genus with DBH mapped to the x-axis and tree height mapped to the y-axis."
   ]
  },
  {
   "cell_type": "code",
   "execution_count": null,
   "metadata": {},
   "outputs": [],
   "source": [
    "# creating a subset of just trees in the Ulmus genus\n",
    "ulmus_df = genus_df.query(\"Genus == 'Ulmus'\")\n",
    "\n",
    "sns.relplot(x=\"DBH\", y=\"TreeHeight\", data=ulmus_df)"
   ]
  },
  {
   "attachments": {},
   "cell_type": "markdown",
   "metadata": {},
   "source": [
    "* **Graph 2**: Create a scatterplot for just trees in the Ulmus genus with DBH mapped to the x-axis, tree height mapped to the y-axis, and tree species mapped to hue (Hint: You will need to use the “Genus”, “Genus_spec”, “DBH”, and “TreeHeight” attributes.)"
   ]
  },
  {
   "cell_type": "code",
   "execution_count": null,
   "metadata": {},
   "outputs": [],
   "source": [
    "sns.relplot(x=\"DBH\", y=\"TreeHeight\", hue=\"Genus_spec\", data=ulmus_df)"
   ]
  },
  {
   "attachments": {},
   "cell_type": "markdown",
   "metadata": {},
   "source": [
    "* **Graph 3**: Create a boxplot of DBH for just the Ulmus genus differentiated by species (or, each species should have its own boxplot)."
   ]
  },
  {
   "cell_type": "code",
   "execution_count": null,
   "metadata": {},
   "outputs": [],
   "source": [
    "warnings.filterwarnings('ignore')\n",
    "%matplotlib inline\n",
    "\n",
    "plt.figure(figsize=(4,3))\n",
    "sns.boxplot(data=ulmus_df, x='DBH', y='Genus_spec')\n",
    "plt.title('Box Plot for DBH by species in the Ulmus genus')\n",
    "plt.show()"
   ]
  },
  {
   "attachments": {},
   "cell_type": "markdown",
   "metadata": {},
   "source": [
    "* **Graph 4**: Combine Graphs 1 and 3 into a single figure. Do not plot a legend for any of the graphs."
   ]
  },
  {
   "cell_type": "code",
   "execution_count": null,
   "metadata": {},
   "outputs": [],
   "source": [
    "fig1, axs = plt.subplots(ncols=2)\n",
    "\n",
    "sns.boxplot(data=ulmus_df, x='DBH', y='Genus_spec', ax=axs[0])\n",
    "sns.scatterplot(x=\"DBH\", y=\"TreeHeight\", data=ulmus_df, ax=axs[1])\n",
    "plt.show()"
   ]
  },
  {
   "attachments": {},
   "cell_type": "markdown",
   "metadata": {},
   "source": [
    "### Python Geopandas"
   ]
  },
  {
   "attachments": {},
   "cell_type": "markdown",
   "metadata": {},
   "source": [
    "* **Task 1**: Read in your chosen dataset as a GeoPandas Dataframe"
   ]
  },
  {
   "cell_type": "code",
   "execution_count": null,
   "metadata": {},
   "outputs": [],
   "source": [
    "ancient_forest = gpd.read_file(\"/Users/saffytaylor/Documents/AWI_SCOTLAND_ESRI/AWI_SCOTLAND.shp\")\n"
   ]
  },
  {
   "attachments": {},
   "cell_type": "markdown",
   "metadata": {},
   "source": [
    "* **Task 2**: Use the correct code to plot the first 5 and the last 5 sets of records in your selected dataset."
   ]
  },
  {
   "cell_type": "code",
   "execution_count": null,
   "metadata": {},
   "outputs": [],
   "source": [
    "forest_update = ancient_forest.iloc[np.r_[0:5,-5:0]]\n",
    "forest_update.plot()"
   ]
  },
  {
   "attachments": {},
   "cell_type": "markdown",
   "metadata": {},
   "source": [
    "* **Task 3**: Create a map where you can explore the selected dataset. Try to plot the map using some categorical attribute. Include a ToolTip."
   ]
  },
  {
   "cell_type": "code",
   "execution_count": null,
   "metadata": {},
   "outputs": [],
   "source": [
    "ancient_forest.explore(column='ANTIQUITY', cmap='RdYlBu', tooltip=True)\n",
    "#categorical data = ANTIQUITY\n",
    "# tooltip is True by default in here but has been specified in the parameters to show it's been considered "
   ]
  },
  {
   "attachments": {},
   "cell_type": "markdown",
   "metadata": {},
   "source": [
    "* **Task 4**: What is the Coordinate Reference System of the selected dataset?"
   ]
  },
  {
   "cell_type": "code",
   "execution_count": null,
   "metadata": {},
   "outputs": [],
   "source": [
    "ancient_forest.crs"
   ]
  },
  {
   "attachments": {},
   "cell_type": "markdown",
   "metadata": {},
   "source": [
    "* **Task 5**: How many features does the selected dataset contain?"
   ]
  },
  {
   "cell_type": "code",
   "execution_count": null,
   "metadata": {},
   "outputs": [],
   "source": [
    "ancient_forest.shape\n",
    "# features = rows, this dataset has 28512 rows"
   ]
  },
  {
   "attachments": {},
   "cell_type": "markdown",
   "metadata": {},
   "source": [
    "* **Task 6**: Define a sub-setting criterion to create a new geopandas dataframe where you filter the selected dataset based on a **categorical attribute**."
   ]
  },
  {
   "cell_type": "code",
   "execution_count": null,
   "metadata": {},
   "outputs": [],
   "source": [
    "# defining based on region\n",
    "ancient_complete = ancient_forest['ANTIQUITY'] == 'Ancient (of semi-natural origin)'\n",
    "ancient_complete = ancient_forest[ancient_complete]\n",
    "# creates a new subset criteria where the new subset will only contain rows where the forest antiquity is ancient\n",
    "ancient_complete.shape #offers a way of confirming the new smaller dataframe"
   ]
  },
  {
   "attachments": {},
   "cell_type": "markdown",
   "metadata": {},
   "source": [
    "* **Task 7**: Define a sub-setting criterion to create a new geopandas dataframe where you filter the selected dataset based on a **numerical attribute**."
   ]
  },
  {
   "cell_type": "code",
   "execution_count": null,
   "metadata": {},
   "outputs": [],
   "source": [
    "ancient_completeB = ancient_complete['HECTARE'] > 20\n",
    "ancient_completeB = ancient_complete[ancient_completeB]\n",
    "ancient_completeB\n"
   ]
  },
  {
   "attachments": {},
   "cell_type": "markdown",
   "metadata": {},
   "source": [
    "* **Task 8**: Plot the new/filtered geopandas dataframe using one of the attributes to create a choropleth map."
   ]
  },
  {
   "cell_type": "code",
   "execution_count": null,
   "metadata": {},
   "outputs": [],
   "source": [
    "ancient_completeB.plot(\n",
    "    column='HECTARE', \n",
    "    scheme='natural_breaks', \n",
    "    k=3,\n",
    "    categorical = False,\n",
    "    cmap='RdYlBu',\n",
    "    linewidth=0.1,\n",
    "    edgecolor='white',\n",
    "    legend=True,\n",
    "    legend_kwds={'loc': 'lower right'}\n",
    "    )\n"
   ]
  },
  {
   "attachments": {},
   "cell_type": "markdown",
   "metadata": {},
   "source": [
    "### Python Rasterio\n",
    "The dataset for this part of the assignment is elev.tif a 30 m spatial resolution digital elevation model (DEM) derived from the National Elevation Dataset (NED) in Canada with elevation in meters."
   ]
  },
  {
   "attachments": {},
   "cell_type": "markdown",
   "metadata": {},
   "source": [
    "* **Task 1**: Read the file as a rasterio dataset"
   ]
  },
  {
   "cell_type": "code",
   "execution_count": null,
   "metadata": {},
   "outputs": [],
   "source": [
    "elev = rio.open(\"/Users/saffytaylor/Documents/Assignment 2 Data/elev.tif\")"
   ]
  },
  {
   "attachments": {},
   "cell_type": "markdown",
   "metadata": {},
   "source": [
    "* **Task 2**: What is the CRS of the dataset?"
   ]
  },
  {
   "cell_type": "code",
   "execution_count": null,
   "metadata": {},
   "outputs": [],
   "source": [
    "print(elev.crs)"
   ]
  },
  {
   "attachments": {},
   "cell_type": "markdown",
   "metadata": {},
   "source": [
    "* **Task 3**: Describe the raster dataset regarding the raster extent (bounds), the reference system, and how many bands are in this dataset."
   ]
  },
  {
   "cell_type": "code",
   "execution_count": null,
   "metadata": {},
   "outputs": [],
   "source": [
    "print(elev.bounds)\n",
    "print(elev.crs)\n",
    "print(elev.count)"
   ]
  },
  {
   "attachments": {},
   "cell_type": "markdown",
   "metadata": {},
   "source": [
    "* **Task 4**: Create a plot/map of the raster dataset."
   ]
  },
  {
   "cell_type": "code",
   "execution_count": null,
   "metadata": {},
   "outputs": [],
   "source": [
    "elev_array = elev.read(1)\n",
    "\n",
    "elev_image = np.ma.masked_array(elev_array, mask=(elev_array ==0))\n",
    "plt.rcParams['figure.figsize'] = [10,8]\n",
    "plt.imshow(elev_image, cmap=\"gist_gray\")"
   ]
  },
  {
   "attachments": {},
   "cell_type": "markdown",
   "metadata": {},
   "source": [
    "* **Task 5**: Create Histograms from the raster."
   ]
  },
  {
   "cell_type": "code",
   "execution_count": null,
   "metadata": {},
   "outputs": [],
   "source": [
    "ep.hist(elev_image, colors=\"Violet\", title = \"Histogram for Elevation of Canada\")\n",
    "plt.show()\n",
    "# only one band so only one histogram"
   ]
  }
 ],
 "metadata": {
  "kernelspec": {
   "display_name": "py4sa",
   "language": "python",
   "name": "python3"
  },
  "language_info": {
   "codemirror_mode": {
    "name": "ipython",
    "version": 3
   },
   "file_extension": ".py",
   "mimetype": "text/x-python",
   "name": "python",
   "nbconvert_exporter": "python",
   "pygments_lexer": "ipython3",
   "version": "3.10.9"
  },
  "orig_nbformat": 4
 },
 "nbformat": 4,
 "nbformat_minor": 2
}
