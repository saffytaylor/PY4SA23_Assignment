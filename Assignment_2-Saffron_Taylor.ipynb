{
 "cells": [
  {
   "attachments": {},
   "cell_type": "markdown",
   "metadata": {},
   "source": [
    "# Assignment No.2 - Saffron Taylor\n",
    "## Student Number: 200022090\n",
    "### GitHub URL: https://github.com/saffytaylor/PY4SA23_Assignment.git\n"
   ]
  },
  {
   "attachments": {},
   "cell_type": "markdown",
   "metadata": {},
   "source": [
    "### Python Basics assignment tasks"
   ]
  },
  {
   "attachments": {},
   "cell_type": "markdown",
   "metadata": {},
   "source": [
    "Task 1: if and else statement with numerical data"
   ]
  },
  {
   "cell_type": "code",
   "execution_count": 1,
   "metadata": {},
   "outputs": [
    {
     "name": "stdout",
     "output_type": "stream",
     "text": [
      "16 is not divisible by three\n"
     ]
    }
   ],
   "source": [
    "num = 16\n",
    "\n",
    "if num%3 == 0:\n",
    "    print(num,\"is divisible by three\")\n",
    "else:\n",
    "    print(num,\"is not divisible by three\")"
   ]
  },
  {
   "attachments": {},
   "cell_type": "markdown",
   "metadata": {},
   "source": [
    "Task 2: if and else statement with string data"
   ]
  },
  {
   "cell_type": "code",
   "execution_count": 2,
   "metadata": {},
   "outputs": [
    {
     "name": "stdout",
     "output_type": "stream",
     "text": [
      "lemon is not acceptable\n"
     ]
    }
   ],
   "source": [
    "fruits = [\"apple\",\"orange\",\"pear\",\"kiwi\",\"strawberry\"]\n",
    "fruitInput = \"lemon\"\n",
    "\n",
    "if fruitInput in fruits:\n",
    "    print(fruitInput,\"is acceptable\")\n",
    "else:\n",
    "    print(fruitInput,\"is not acceptable\")"
   ]
  },
  {
   "attachments": {},
   "cell_type": "markdown",
   "metadata": {},
   "source": [
    "Task 3: Creating a function to calculate distance using the haversine formula"
   ]
  },
  {
   "attachments": {},
   "cell_type": "markdown",
   "metadata": {},
   "source": [
    "### Pandas and NumPy tasks"
   ]
  },
  {
   "attachments": {},
   "cell_type": "markdown",
   "metadata": {},
   "source": [
    "Q1: How many trees are of the Quercus or Acer Genus"
   ]
  },
  {
   "cell_type": "code",
   "execution_count": 19,
   "metadata": {},
   "outputs": [
    {
     "name": "stdout",
     "output_type": "stream",
     "text": [
      "There are 2089 trees in the Quercus Genus, and 3586 trees in the Acer Genus.\n",
      "In total there are 5675 in both Genera.\n"
     ]
    }
   ],
   "source": [
    "import numpy as np \n",
    "import pandas as pd\n",
    "\n",
    "# trees_df=pd.read_csv(\"Assignment 2 Data/portland_park_trees.csv\", sep=\",\", header=0, encoding=\"ISO-8859-1\")\n",
    "genus_df = pd.read_csv(\"Assignment 2 Data/portland_park_trees.csv\", index_col=30)\n",
    "gen_df = genus_df.query(\"Genus == 'Quercus' | Genus == 'Acer'\")\n",
    "quercus_df = genus_df.query(\"Genus == 'Quercus'\")\n",
    "acer_df = genus_df.query(\"Genus == 'Acer'\")\n",
    "print(\"There are\", len(quercus_df),\"trees in the Quercus Genus, and\", len(acer_df),\"trees in the Acer Genus.\")\n",
    "print(\"In total there are\",len(gen_df),\"in both Genera.\")"
   ]
  }
 ],
 "metadata": {
  "kernelspec": {
   "display_name": "py4sa",
   "language": "python",
   "name": "python3"
  },
  "language_info": {
   "codemirror_mode": {
    "name": "ipython",
    "version": 3
   },
   "file_extension": ".py",
   "mimetype": "text/x-python",
   "name": "python",
   "nbconvert_exporter": "python",
   "pygments_lexer": "ipython3",
   "version": "3.10.9"
  },
  "orig_nbformat": 4
 },
 "nbformat": 4,
 "nbformat_minor": 2
}
