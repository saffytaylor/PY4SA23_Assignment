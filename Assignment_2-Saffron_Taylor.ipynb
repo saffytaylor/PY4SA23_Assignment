{
 "cells": [
  {
   "attachments": {},
   "cell_type": "markdown",
   "metadata": {},
   "source": [
    "# Assignment No.2 - Saffron Taylor\n",
    "## Student Number: 200022090 HELP\n",
    "### GitHub URL: https://github.com/saffytaylor/PY4SA23_Assignment.git\n"
   ]
  },
  {
   "attachments": {},
   "cell_type": "markdown",
   "metadata": {},
   "source": [
    "### Python Basics assignment tasks"
   ]
  },
  {
   "attachments": {},
   "cell_type": "markdown",
   "metadata": {},
   "source": [
    "Task 1: if and else statement with numerical data"
   ]
  },
  {
   "cell_type": "code",
   "execution_count": 1,
   "metadata": {},
   "outputs": [
    {
     "name": "stdout",
     "output_type": "stream",
     "text": [
      "16 is not divisible by three\n"
     ]
    }
   ],
   "source": [
    "num = 16\n",
    "\n",
    "if num%3 == 0:\n",
    "    print(num,\"is divisible by three\")\n",
    "else:\n",
    "    print(num,\"is not divisible by three\")"
   ]
  },
  {
   "attachments": {},
   "cell_type": "markdown",
   "metadata": {},
   "source": [
    "Task 2: if and else statement with string data"
   ]
  },
  {
   "cell_type": "code",
   "execution_count": 2,
   "metadata": {},
   "outputs": [
    {
     "name": "stdout",
     "output_type": "stream",
     "text": [
      "lemon is not acceptable\n"
     ]
    }
   ],
   "source": [
    "fruits = [\"apple\",\"orange\",\"pear\",\"kiwi\",\"strawberry\"]\n",
    "fruitInput = \"lemon\"\n",
    "\n",
    "if fruitInput in fruits:\n",
    "    print(fruitInput,\"is acceptable\")\n",
    "else:\n",
    "    print(fruitInput,\"is not acceptable\")"
   ]
  },
  {
   "attachments": {},
   "cell_type": "markdown",
   "metadata": {},
   "source": [
    "Task 3: Creating a function to calculate distance using the haversine formula"
   ]
  },
  {
   "attachments": {},
   "cell_type": "markdown",
   "metadata": {},
   "source": [
    "### Pandas and NumPy tasks"
   ]
  },
  {
   "attachments": {},
   "cell_type": "markdown",
   "metadata": {},
   "source": [
    "Q1: How many trees are of the Quercus or Acer Genus"
   ]
  },
  {
   "cell_type": "code",
   "execution_count": 5,
   "metadata": {},
   "outputs": [
    {
     "ename": "TypeError",
     "evalue": "'DataFrame' object is not callable",
     "output_type": "error",
     "traceback": [
      "\u001b[0;31m---------------------------------------------------------------------------\u001b[0m",
      "\u001b[0;31mTypeError\u001b[0m                                 Traceback (most recent call last)",
      "Cell \u001b[0;32mIn[5], line 7\u001b[0m\n\u001b[1;32m      4\u001b[0m \u001b[39m# trees_df=pd.read_csv(\"Assignment 2 Data/portland_park_trees.csv\", sep=\",\", header=0, encoding=\"ISO-8859-1\")\u001b[39;00m\n\u001b[1;32m      5\u001b[0m genus_df \u001b[39m=\u001b[39m pd\u001b[39m.\u001b[39mread_csv(\u001b[39m\"\u001b[39m\u001b[39mAssignment 2 Data/portland_park_trees.csv\u001b[39m\u001b[39m\"\u001b[39m, index_col\u001b[39m=\u001b[39m\u001b[39m30\u001b[39m)\n\u001b[0;32m----> 7\u001b[0m genus_df(\u001b[39m\"\u001b[39;49m\u001b[39mGenus == Quercus\u001b[39;49m\u001b[39m\"\u001b[39;49m)\n",
      "\u001b[0;31mTypeError\u001b[0m: 'DataFrame' object is not callable"
     ]
    }
   ],
   "source": [
    "import numpy as np \n",
    "import pandas as pd\n",
    "\n",
    "# trees_df=pd.read_csv(\"Assignment 2 Data/portland_park_trees.csv\", sep=\",\", header=0, encoding=\"ISO-8859-1\")\n",
    "genus_df = pd.read_csv(\"Assignment 2 Data/portland_park_trees.csv\", index_col=30)\n",
    "\n"
   ]
  }
 ],
 "metadata": {
  "kernelspec": {
   "display_name": "py4sa",
   "language": "python",
   "name": "python3"
  },
  "language_info": {
   "codemirror_mode": {
    "name": "ipython",
    "version": 3
   },
   "file_extension": ".py",
   "mimetype": "text/x-python",
   "name": "python",
   "nbconvert_exporter": "python",
   "pygments_lexer": "ipython3",
   "version": "3.10.9"
  },
  "orig_nbformat": 4
 },
 "nbformat": 4,
 "nbformat_minor": 2
}
