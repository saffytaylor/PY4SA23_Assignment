{
 "cells": [
  {
   "attachments": {},
   "cell_type": "markdown",
   "metadata": {},
   "source": [
    "# Assignment No.2 - Saffron Taylor\n",
    "## Student Number: 200022090\n",
    "### GitHub URL: https://github.com/saffytaylor/PY4SA23_Assignment.git\n"
   ]
  },
  {
   "attachments": {},
   "cell_type": "markdown",
   "metadata": {},
   "source": [
    "### Python Basics assignment tasks"
   ]
  },
  {
   "attachments": {},
   "cell_type": "markdown",
   "metadata": {},
   "source": [
    "Task 1: if and else statement with numerical data"
   ]
  },
  {
   "cell_type": "code",
   "execution_count": 1,
   "metadata": {},
   "outputs": [
    {
     "name": "stdout",
     "output_type": "stream",
     "text": [
      "16 is not divisible by three\n"
     ]
    }
   ],
   "source": [
    "num = 16\n",
    "\n",
    "if num%3 == 0:\n",
    "    print(num,\"is divisible by three\")\n",
    "else:\n",
    "    print(num,\"is not divisible by three\")"
   ]
  },
  {
   "attachments": {},
   "cell_type": "markdown",
   "metadata": {},
   "source": [
    "Task 2: if and else statement with string data"
   ]
  },
  {
   "cell_type": "code",
   "execution_count": 2,
   "metadata": {},
   "outputs": [
    {
     "name": "stdout",
     "output_type": "stream",
     "text": [
      "lemon is not acceptable\n"
     ]
    }
   ],
   "source": [
    "fruits = [\"apple\",\"orange\",\"pear\",\"kiwi\",\"strawberry\"]\n",
    "fruitInput = \"lemon\"\n",
    "\n",
    "if fruitInput in fruits:\n",
    "    print(fruitInput,\"is acceptable\")\n",
    "else:\n",
    "    print(fruitInput,\"is not acceptable\")"
   ]
  },
  {
   "attachments": {},
   "cell_type": "markdown",
   "metadata": {},
   "source": [
    "Task 3: Creating a function to calculate distance using the haversine formula"
   ]
  },
  {
   "attachments": {},
   "cell_type": "markdown",
   "metadata": {},
   "source": [
    "### Pandas and NumPy tasks"
   ]
  },
  {
   "attachments": {},
   "cell_type": "markdown",
   "metadata": {},
   "source": [
    "Q1: How many trees are of the Quercus or Acer Genus"
   ]
  },
  {
   "cell_type": "code",
   "execution_count": 9,
   "metadata": {},
   "outputs": [
    {
     "data": {
      "text/plain": [
       "fid           25534\n",
       "OBJECTID      25534\n",
       "Inventory_    25534\n",
       "Species       25534\n",
       "DBH           25534\n",
       "Condition     25533\n",
       "TreeHeight    25533\n",
       "CrownWidth    25271\n",
       "CrownWid_1    25271\n",
       "CollectedB    25529\n",
       "Notes           326\n",
       "CrownBaseH    25271\n",
       "GlobalID      25534\n",
       "StaffRevie     5009\n",
       "created_us    25534\n",
       "created_da    25534\n",
       "last_edite    25534\n",
       "last_edi_1    25534\n",
       "UserID        25534\n",
       "Structural    25485\n",
       "Carbon_Sto    25485\n",
       "Carbon_S_1    25485\n",
       "Carbon_Seq    25485\n",
       "Carbon_S_2    25485\n",
       "Stormwater    25485\n",
       "Stormwat_1    25485\n",
       "Pollution_    25485\n",
       "Pollutio_1    25485\n",
       "Total_Annu    25485\n",
       "Family        25534\n",
       "Common_nam    25534\n",
       "Genus_spec    25534\n",
       "Functional    25270\n",
       "Size          25270\n",
       "Native        25133\n",
       "Edible         1304\n",
       "Nuisance       2777\n",
       "Origin        23382\n",
       "Species_fa    23955\n",
       "dtype: int64"
      ]
     },
     "execution_count": 9,
     "metadata": {},
     "output_type": "execute_result"
    }
   ],
   "source": [
    "import numpy as np \n",
    "import pandas as pd\n",
    "\n",
    "# trees_df=pd.read_csv(\"Assignment 2 Data/portland_park_trees.csv\", sep=\",\", header=0, encoding=\"ISO-8859-1\")\n",
    "genus_df = pd.read_csv(\"Assignment 2 Data/portland_park_trees.csv\", index_col=30)\n",
    "\n",
    "genus_df.count()\n",
    "# same size limit error as before?"
   ]
  }
 ],
 "metadata": {
  "kernelspec": {
   "display_name": "py4sa",
   "language": "python",
   "name": "python3"
  },
  "language_info": {
   "codemirror_mode": {
    "name": "ipython",
    "version": 3
   },
   "file_extension": ".py",
   "mimetype": "text/x-python",
   "name": "python",
   "nbconvert_exporter": "python",
   "pygments_lexer": "ipython3",
   "version": "3.10.9"
  },
  "orig_nbformat": 4
 },
 "nbformat": 4,
 "nbformat_minor": 2
}
